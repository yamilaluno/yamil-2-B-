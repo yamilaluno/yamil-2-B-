{
 "cells": [
  {
   "cell_type": "code",
   "execution_count": 1,
   "metadata": {},
   "outputs": [
    {
     "ename": "SyntaxError",
     "evalue": "invalid syntax. Perhaps you forgot a comma? (2849023795.py, line 15)",
     "output_type": "error",
     "traceback": [
      "\u001b[1;36m  Cell \u001b[1;32mIn[1], line 15\u001b[1;36m\u001b[0m\n\u001b[1;33m    print(f'Eu sou {nome} e meu imc é {round{imc, 2}}')\u001b[0m\n\u001b[1;37m                                       ^\u001b[0m\n\u001b[1;31mSyntaxError\u001b[0m\u001b[1;31m:\u001b[0m invalid syntax. Perhaps you forgot a comma?\n"
     ]
    }
   ],
   "source": [
    "nome = \"Yamil\"\n",
    "sobrenome = \"Josué\"\n",
    "\n",
    "print(nome, sobrenome)\n",
    "print(nome + \"\" + sobrenome)\n",
    "print(f'{nome} e {sobrenome}')\n",
    "#------------------------------------\n",
    "#: eu sou <nome de vocês> e meu imc é <calculo o imc>\n",
    "\n",
    "altura = 1.74\n",
    "peso = 110\n",
    "imc = peso/altura**2\n",
    "nome = \"yamil\"\n",
    "\n",
    "print(f'Eu sou {nome} e meu imc é {round{imc, 2}}')\n",
    "#--------------------------------------------------------\n"
   ]
  }
 ],
 "metadata": {
  "kernelspec": {
   "display_name": "base",
   "language": "python",
   "name": "python3"
  },
  "language_info": {
   "codemirror_mode": {
    "name": "ipython",
    "version": 3
   },
   "file_extension": ".py",
   "mimetype": "text/x-python",
   "name": "python",
   "nbconvert_exporter": "python",
   "pygments_lexer": "ipython3",
   "version": "3.12.7"
  }
 },
 "nbformat": 4,
 "nbformat_minor": 2
}
