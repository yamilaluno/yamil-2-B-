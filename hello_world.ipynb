{
 "cells": [
  {
   "cell_type": "code",
   "execution_count": 2,
   "metadata": {},
   "outputs": [
    {
     "name": "stdout",
     "output_type": "stream",
     "text": [
      "Olá mundo\n",
      "Yamil Josué\n",
      "6\n",
      "6\n",
      "4\n",
      "2.5\n",
      "16\n"
     ]
    }
   ],
   "source": [
    "print(\"Olá mundo\")\n",
    "print(\"Yamil Josué\")\n",
    "\n",
    "# x, y, z\n",
    "x = 4\n",
    "y = 2\n",
    "z = 10\n",
    "\n",
    "#-----------\n",
    "print(x + y) # Soma\n",
    "print(z - x) # Subtração\n",
    "print(y * y) # Multiplicação\n",
    "print(z/x) # Divição\n",
    "print(y**x) # potencia"
   ]
  }
 ],
 "metadata": {
  "kernelspec": {
   "display_name": "base",
   "language": "python",
   "name": "python3"
  },
  "language_info": {
   "codemirror_mode": {
    "name": "ipython",
    "version": 3
   },
   "file_extension": ".py",
   "mimetype": "text/x-python",
   "name": "python",
   "nbconvert_exporter": "python",
   "pygments_lexer": "ipython3",
   "version": "3.12.7"
  }
 },
 "nbformat": 4,
 "nbformat_minor": 2
}
